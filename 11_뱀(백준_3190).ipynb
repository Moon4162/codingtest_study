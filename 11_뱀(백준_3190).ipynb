{
 "cells": [
  {
   "cell_type": "code",
   "execution_count": 18,
   "id": "9f12efa2",
   "metadata": {},
   "outputs": [
    {
     "name": "stdout",
     "output_type": "stream",
     "text": [
      "10\n",
      "4\n",
      "1 2\n",
      "1 3\n",
      "1 4\n",
      "1 5\n",
      "4\n",
      "8 D\n",
      "10 D\n",
      "11 D\n",
      "13 L\n",
      "===answer===\n",
      "21\n"
     ]
    }
   ],
   "source": [
    "# reference : https://hongcoding.tistory.com/127\n",
    "\n",
    "# 1.보드 그리기 빈칸은 0, 뱀 위치는 1, 사과 위치는 2\n",
    "# 2.방향 전환은 딕셔너리로 저장해서 확인\n",
    "# 3.큐를 사용해 뱀의 현재 좌표 저장\n",
    "\n",
    "from collections import deque\n",
    "\n",
    "#보드 만들기\n",
    "n = int(input()) #보드 크기 입력\n",
    "graph = [[0] * n for _ in range(n)] #보드 만들기(빈칸 '0'으로 채우기)\n",
    "\n",
    "#보드 위에 사과 위치 입력\n",
    "k = int(input()) #사과 개수\n",
    "for i in range(k): #사과 위치 입력\n",
    "    a, b = map(int, input().split())\n",
    "    graph[a - 1][b - 1] = 2  #보드위 사과위치 '2'로 변경\n",
    "    \n",
    "#방향전환 입력받기\n",
    "l = int(input()) #방향전환 횟수 입력\n",
    "dirDict = dict() #방향전환 초,방향 저장용 dict 선언\n",
    "for i in range(l): #방향전환 입력받기\n",
    "    x, c = input().split()\n",
    "    dirDict[int(x)] = c #key: 전환시간 / value: 전환방향     \n",
    "\n",
    "#뱀의 방향 전환용 함수 선언\n",
    "def turn(alpha): \n",
    "    global direction  #전역변수로 선언\n",
    "    if alpha == 'L':  #왼쪽으로 이동\n",
    "        direction = (direction - 1) % 4 #뱀의 방향에 따라 보드의 좌표 변환\n",
    "                                        # ex)오른쪽으로 향하다가 왼쪽으로 이동 ==> 보드 좌표상 위로 이동\n",
    "    else: #'D'인경우 오른쪽으로 이동\n",
    "        direction = (direction + 1) % 4 # ex)오른쪽으로 향하다가 오른쪽으로 이동 ==> 보드 좌표상 아래로 이동\n",
    "\n",
    "dx = [0, 1, 0, -1] #보드 위 뱀의 이동방향용 배열 선언 // dx,dy 짝지어서 순서대로 [오른쪽 아래 왼쪽 위]\n",
    "dy = [1, 0, -1, 0] #처음시작시 오른쪽으로 이동(y값 증가)\n",
    "\n",
    "queue = deque()      #뱀의 위치상태 저장용 deque 선언\n",
    "queue.append((0, 0)) #큐에 초기위치 저장\n",
    "\n",
    "x, y = 0, 0       #뱀 초기위치 설정\n",
    "graph[x][y] = 1   #뱀 위치 '1'로 변경\n",
    "\n",
    "cnt = 0           #초 카운트용 변수 초기화\n",
    "direction = 0     #좌표 이동용 변수 초기화\n",
    "\n",
    "while True:\n",
    "    cnt += 1 #초 카운팅\n",
    "    x += dx[direction] #뱀의 보드 이동\n",
    "    y += dy[direction]\n",
    "\n",
    "    if x < 0 or x >= n or y < 0 or y >= n: #보드 벽에 닿을 경우 끝\n",
    "        break\n",
    "\n",
    "    if graph[x][y] == 2: #뱀이 사과위치에 간 경우\n",
    "        graph[x][y] = 1  #보드 위 해당 위치 '1'로 변경\n",
    "        queue.append((x, y)) #큐에 뱀 위치 추가\n",
    "        \n",
    "        if cnt in dirDict: #방향 전환 초에 해당한경우\n",
    "            turn(dirDict[cnt]) #방향 전환 함수 실행\n",
    "\n",
    "    elif graph[x][y] == 0: #뱀이 빈칸에 도착한 경우\n",
    "        graph[x][y] = 1    #보드 위 해당 위치 '1'로 변경\n",
    "        queue.append((x, y)) #큐에 뱀 위치 추가\n",
    "        \n",
    "        tx, ty = queue.popleft() #큐의 제일 왼쪽(뱀의 마지막) 제거 후 리턴\n",
    "        graph[tx][ty] = 0 #보드 위 해당 위치 '0'으로 변경\n",
    "        \n",
    "        if cnt in dirDict:\n",
    "            turn(dirDict[cnt])\n",
    "\n",
    "    else:       #그 외(몸에 닿은경우)\n",
    "        break\n",
    "        \n",
    "print(\"===answer===\")\n",
    "print(cnt)"
   ]
  },
  {
   "cell_type": "code",
   "execution_count": 19,
   "id": "db0e35ea",
   "metadata": {},
   "outputs": [
    {
     "name": "stdout",
     "output_type": "stream",
     "text": [
      "1\n"
     ]
    }
   ],
   "source": [
    "direction1 = 0\n",
    "direction1 = (direction1 + 1) % 4\n",
    "print(direction1)"
   ]
  },
  {
   "cell_type": "code",
   "execution_count": 14,
   "id": "0f5d4a42",
   "metadata": {},
   "outputs": [
    {
     "name": "stdout",
     "output_type": "stream",
     "text": [
      "2\n"
     ]
    }
   ],
   "source": [
    "direction1 = 1\n",
    "direction1 = (direction1 + 1) % 4\n",
    "print(direction1)"
   ]
  },
  {
   "cell_type": "code",
   "execution_count": 16,
   "id": "f141c0b5",
   "metadata": {},
   "outputs": [
    {
     "name": "stdout",
     "output_type": "stream",
     "text": [
      "3\n"
     ]
    }
   ],
   "source": [
    "direction1 = 0\n",
    "direction1 = (direction1 - 1) % 4\n",
    "print(direction1)\n"
   ]
  },
  {
   "cell_type": "code",
   "execution_count": null,
   "id": "51be5195",
   "metadata": {},
   "outputs": [],
   "source": []
  }
 ],
 "metadata": {
  "kernelspec": {
   "display_name": "Python 3 (ipykernel)",
   "language": "python",
   "name": "python3"
  },
  "language_info": {
   "codemirror_mode": {
    "name": "ipython",
    "version": 3
   },
   "file_extension": ".py",
   "mimetype": "text/x-python",
   "name": "python",
   "nbconvert_exporter": "python",
   "pygments_lexer": "ipython3",
   "version": "3.9.13"
  }
 },
 "nbformat": 4,
 "nbformat_minor": 5
}
